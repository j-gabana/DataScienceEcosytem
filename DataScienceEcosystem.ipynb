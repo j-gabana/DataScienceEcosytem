{
 "cells": [
  {
   "cell_type": "markdown",
   "id": "98de82a9-ba5b-4b31-bd46-e9dd6ceba72b",
   "metadata": {},
   "source": [
    "# Data Science Tools and Ecosystem"
   ]
  },
  {
   "cell_type": "markdown",
   "id": "2f511a2f-bbe4-469c-9808-08caf535d73f",
   "metadata": {},
   "source": [
    "In this notebook, Data Science Tools and Ecosystem are summarized."
   ]
  },
  {
   "cell_type": "markdown",
   "id": "283372d3-51f8-471c-b230-0d3c14c68f65",
   "metadata": {},
   "source": [
    "**Objectives:**\n",
    "\n",
    "- List popular languages for Data Science\n",
    "- List of libraries used for Data Science\n",
    "- Numerical operation"
   ]
  },
  {
   "cell_type": "markdown",
   "id": "3bf59e62-594a-494a-8992-e6b044c5c1d3",
   "metadata": {},
   "source": [
    "Some of the popular languages that Data Scientists use are:\n",
    "\n",
    "1. Python\n",
    "1. R\n",
    "1. Scala\n",
    "1. SQL"
   ]
  },
  {
   "cell_type": "markdown",
   "id": "c094fb33-f093-4cb3-923e-e7b15a01ba38",
   "metadata": {},
   "source": [
    "Some of the commonly used libraries used by Data Scientists include:\n",
    "\n",
    "1. Pandas\n",
    "1. Scikit-learn\n",
    "1. NumPy\n",
    "1. TensorFlow\n",
    "1. Keras\n",
    "1. Matplotlib"
   ]
  },
  {
   "cell_type": "markdown",
   "id": "a0a819f6-2b5a-4348-a0ab-9c1d546a2712",
   "metadata": {},
   "source": [
    "| Data Science Tools |\n",
    "| --- |\n",
    "| Spyder |\n",
    "| RStudio |\n",
    "| JupyterLab |\n",
    "| Orange |"
   ]
  },
  {
   "cell_type": "markdown",
   "id": "005e1896-46a3-420e-b2a1-184da8bc81de",
   "metadata": {},
   "source": [
    "### Below are a few examples of evaluating arithmetic expressions in Python"
   ]
  },
  {
   "cell_type": "code",
   "execution_count": 12,
   "id": "820b2606-97e0-44ca-bf6e-af484aab0e03",
   "metadata": {},
   "outputs": [
    {
     "data": {
      "text/plain": [
       "17"
      ]
     },
     "execution_count": 12,
     "metadata": {},
     "output_type": "execute_result"
    }
   ],
   "source": [
    "# This a simple arithmetic expression to mutiply then add integers\n",
    "(3*4)+5"
   ]
  },
  {
   "cell_type": "code",
   "execution_count": 14,
   "id": "d6b51d63-41d7-4790-9046-22c472c65fb6",
   "metadata": {},
   "outputs": [
    {
     "data": {
      "text/plain": [
       "3.3333333333333335"
      ]
     },
     "execution_count": 14,
     "metadata": {},
     "output_type": "execute_result"
    }
   ],
   "source": [
    "# This will convert 200 minutes to hours by diving by 60\n",
    "200/60"
   ]
  },
  {
   "cell_type": "markdown",
   "id": "45bfcdd2-e68b-42fb-add1-8dfd74885bfd",
   "metadata": {},
   "source": [
    "## Author\n",
    "Jesús Gábana de Vega"
   ]
  },
  {
   "cell_type": "code",
   "execution_count": null,
   "id": "fb105920-dafb-4fc0-a5ce-8a6d63f518bc",
   "metadata": {},
   "outputs": [],
   "source": []
  }
 ],
 "metadata": {
  "kernelspec": {
   "display_name": "Python 3 (ipykernel)",
   "language": "python",
   "name": "python3"
  },
  "language_info": {
   "codemirror_mode": {
    "name": "ipython",
    "version": 3
   },
   "file_extension": ".py",
   "mimetype": "text/x-python",
   "name": "python",
   "nbconvert_exporter": "python",
   "pygments_lexer": "ipython3",
   "version": "3.9.18"
  }
 },
 "nbformat": 4,
 "nbformat_minor": 5
}
